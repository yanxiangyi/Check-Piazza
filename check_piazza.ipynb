{
 "cells": [
  {
   "cell_type": "code",
   "execution_count": null,
   "metadata": {},
   "outputs": [],
   "source": [
    "import csv"
   ]
  },
  {
   "cell_type": "code",
   "execution_count": null,
   "metadata": {},
   "outputs": [],
   "source": [
    "piazza_list = []\n",
    "with open('./piazza-cs273p_roster.csv') as csv_file:\n",
    "    piazza = csv.reader(csv_file, delimiter=',')\n",
    "    for row in piazza:\n",
    "        piazza_list.append(row[1])\n",
    "piazza_list.pop(0)\n",
    "\n",
    "gradescope_list = []\n",
    "with open('./CompSci_273P_Spring_2020_roster.csv') as csv_file:\n",
    "    gradescope = csv.reader(csv_file, delimiter=',')\n",
    "    for row in gradescope:\n",
    "        gradescope_list.append(row[3])\n",
    "gradescope_list.pop(0)\n",
    "\n",
    "not_in_piazza = set(gradescope_list).difference(set(piazza_list))\n",
    "not_in_gradescope = set(piazza_list).difference(set(gradescope_list))"
   ]
  },
  {
   "cell_type": "code",
   "execution_count": null,
   "metadata": {},
   "outputs": [],
   "source": [
    "not_in_piazza"
   ]
  },
  {
   "cell_type": "code",
   "execution_count": null,
   "metadata": {},
   "outputs": [],
   "source": [
    "not_in_gradescope"
   ]
  },
  {
   "cell_type": "code",
   "execution_count": null,
   "metadata": {},
   "outputs": [],
   "source": []
  }
 ],
 "metadata": {
  "kernelspec": {
   "display_name": "Python 3",
   "language": "python",
   "name": "python3"
  },
  "language_info": {
   "codemirror_mode": {
    "name": "ipython",
    "version": 3
   },
   "file_extension": ".py",
   "mimetype": "text/x-python",
   "name": "python",
   "nbconvert_exporter": "python",
   "pygments_lexer": "ipython3",
   "version": "3.7.3"
  }
 },
 "nbformat": 4,
 "nbformat_minor": 2
}
